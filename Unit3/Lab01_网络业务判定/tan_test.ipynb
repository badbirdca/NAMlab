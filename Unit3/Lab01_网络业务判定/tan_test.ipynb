{
 "cells": [
  {
   "cell_type": "markdown",
   "metadata": {},
   "source": [
    "## 任务：完成JSON数据索引\n",
    "\n",
    "* 新建一个总列表\n",
    "* 取出所有ticket的创建时间、ID、priority、site、status\n",
    "* 每一张单形成一个子列表 [id, create_time, priority, site, status]\n",
    "* 在循环中以 总列表.append(子列表) 的形式形成复合列表"
   ]
  },
  {
   "cell_type": "code",
   "execution_count": 20,
   "metadata": {},
   "outputs": [
    {
     "name": "stdout",
     "output_type": "stream",
     "text": [
      "[['126495', 'Dec 15, 2023 10:04 AM', 'S2 - High', 'Anglo-Eastern Ship Management Ltd', 'Open'], ['126127', 'Dec 14, 2023 01:54 PM', 'S4 - Low', 'Anglo-Eastern Ship Management Ltd', 'Open'], ['126124', 'Dec 14, 2023 01:18 PM', 'S1 - Critical', 'Anglo-Eastern Ship Management Ltd', 'Onhold'], ['125749', 'Dec 13, 2023 04:16 PM', 'S1 - Critical', 'Anglo-Eastern Ship Management Ltd', 'Onhold'], ['125390', 'Dec 12, 2023 10:26 PM', 'S4 - Low', 'Anglo-Eastern Ship Management Ltd', 'In Progress'], ['125279', 'Dec 12, 2023 12:08 PM', 'S4 - Low', 'Anglo-Eastern Ship Management Ltd', 'In Progress'], ['122755', 'Dec 6, 2023 03:11 PM', 'S4 - Low', 'Anglo-Eastern Ship Management Ltd', 'In Progress'], ['122304', 'Dec 5, 2023 10:36 AM', 'S4 - Low', 'Anglo-Eastern Ship Management Ltd', 'Onhold'], ['120459', 'Nov 30, 2023 04:05 PM', 'S4 - Low', 'Anglo-Eastern Ship Management Ltd', 'In Progress'], ['120445', 'Nov 30, 2023 02:50 PM', 'S2 - High', 'Anglo-Eastern Ship Management Ltd', 'In Progress'], ['120436', 'Nov 30, 2023 02:36 PM', 'S3 - Medium', 'Anglo-Eastern Ship Management Ltd', 'In Progress'], ['119856', 'Nov 29, 2023 09:49 AM', 'S4 - Low', 'Anglo-Eastern Ship Management Ltd', 'In Progress'], ['117930', 'Nov 24, 2023 07:19 PM', 'S4 - Low', 'Anglo-Eastern Ship Management Ltd', 'In Progress'], ['116596', 'Nov 21, 2023 01:48 PM', 'S4 - Low', 'Anglo-Eastern Ship Management Ltd', 'In Progress'], ['112067', 'Nov 10, 2023 09:27 AM', 'S4 - Low', 'Anglo-Eastern Ship Management Ltd', 'In Progress']]\n",
      "112067\n",
      "S4 - Low\n",
      "Anglo-Eastern Ship Management Ltd\n",
      "In Progress\n"
     ]
    }
   ],
   "source": [
    "import json\n",
    "\n",
    "with open('network_tech.json') as f:\n",
    "    json_data = json.load(f)\n",
    "data_list = []\n",
    "for item in json_data['datas']:\n",
    "    Id = item['id']\n",
    "    Priority = item['priority']['name']\n",
    "    Site = item['site']['name']\n",
    "    Status = item['status']['name']\n",
    "    Time = item['created_time']['display_value']\n",
    "    data_list.append([Id,Time,Priority,Site,Status])\n",
    "\n",
    "print (data_list)\n",
    "print (Id)\n",
    "print (Priority)\n",
    "print (Site)\n",
    "print (Status)\n"
   ]
  },
  {
   "cell_type": "code",
   "execution_count": 5,
   "metadata": {},
   "outputs": [],
   "source": [
    "import json\n",
    "with open('network_tech.json') as f:\n",
    "    json_data = json.load(f)"
   ]
  },
  {
   "cell_type": "code",
   "execution_count": 14,
   "metadata": {},
   "outputs": [],
   "source": [
    "for item in json_data['datas']:\n",
    "    item"
   ]
  },
  {
   "cell_type": "code",
   "execution_count": 19,
   "metadata": {},
   "outputs": [
    {
     "data": {
      "text/plain": [
       "'Nov 10, 2023 09:27 AM'"
      ]
     },
     "execution_count": 19,
     "metadata": {},
     "output_type": "execute_result"
    }
   ],
   "source": [
    "item['created_time']['display_value']"
   ]
  }
 ],
 "metadata": {
  "kernelspec": {
   "display_name": "Python 3",
   "language": "python",
   "name": "python3"
  },
  "language_info": {
   "codemirror_mode": {
    "name": "ipython",
    "version": 3
   },
   "file_extension": ".py",
   "mimetype": "text/x-python",
   "name": "python",
   "nbconvert_exporter": "python",
   "pygments_lexer": "ipython3",
   "version": "3.12.1"
  }
 },
 "nbformat": 4,
 "nbformat_minor": 2
}
